{
 "cells": [
  {
   "cell_type": "code",
   "execution_count": 1,
   "metadata": {
    "_cell_guid": "b1076dfc-b9ad-4769-8c92-a6c4dae69d19",
    "_uuid": "8f2839f25d086af736a60e9eeb907d3b93b6e0e5"
   },
   "outputs": [
    {
     "name": "stderr",
     "output_type": "stream",
     "text": [
      "Using plaidml.keras.backend backend.\n"
     ]
    }
   ],
   "source": [
    "import numpy as np # linear algebra\n",
    "import pandas as pd # data processing, CSV file I/O (e.g. pd.read_csv)\n",
    "import matplotlib.pyplot as plt\n",
    "import os\n",
    "\n",
    "os.environ['KERAS_BACKEND'] = 'plaidml.keras.backend'\n",
    "import keras\n",
    "from keras.models import Sequential\n",
    "from keras.layers import Dense, LocallyConnected2D, Conv2D, MaxPooling2D, AveragePooling2D, Flatten, Dropout, Activation\n",
    "from keras.preprocessing.image import ImageDataGenerator\n",
    "from keras import regularizers\n",
    "from sklearn.preprocessing import LabelBinarizer\n",
    "from sklearn.model_selection import train_test_split\n",
    "from sklearn.metrics import accuracy_score"
   ]
  },
  {
   "cell_type": "code",
   "execution_count": 2,
   "metadata": {
    "_uuid": "405528577ed1abd061cae2f5639569e839ab7761"
   },
   "outputs": [],
   "source": [
    "train = open('data/sign_mnist_train.csv')\n",
    "test = open('data/sign_mnist_test.csv')\n",
    "\n",
    "train_df = pd.read_csv(train)\n",
    "test_df = pd.read_csv(test)\n",
    "\n",
    "# labels represents letters. \n",
    "train_y_values = train_df.label.values\n",
    "test_y_values = test_df.label.values\n",
    "\n",
    "label_binarizer = LabelBinarizer()\n",
    "train_y_values = label_binarizer.fit_transform(train_y_values)\n",
    "test_y_values = label_binarizer.fit_transform(test_y_values)\n",
    "\n",
    "train_df.drop('label', axis=1, inplace=True)\n",
    "test_df.drop('label', axis=1, inplace=True)"
   ]
  },
  {
   "cell_type": "code",
   "execution_count": 3,
   "metadata": {
    "_uuid": "d547efd667aa1510f7f9398ecf6bf494a6c414ae"
   },
   "outputs": [],
   "source": [
    "train_images = np.array([row.values.reshape(28, 28) for i, row in train_df.iterrows()])\n",
    "test_images = np.array([row.values.reshape(28, 28) for i, row in test_df.iterrows()])\n",
    "#train_images = train_images / 255\n",
    "#test_images = test_images / 255"
   ]
  },
  {
   "cell_type": "code",
   "execution_count": 4,
   "metadata": {
    "_uuid": "bbb223c8b1205ce7849faa166f5d93d0adbef520"
   },
   "outputs": [],
   "source": [
    "x_train, x_valid, y_train, y_valid = train_test_split(train_images, train_y_values, \n",
    "                                                      test_size = 0.2,\n",
    "                                                      random_state = 64209)\n",
    "\n",
    "x_train = np.array(x_train)\n",
    "x_train = x_train.reshape(x_train.shape[0], 28, 28, 1)\n",
    "x_valid = np.array(x_valid)\n",
    "x_valid = x_valid.reshape(x_valid.shape[0], 28, 28, 1)"
   ]
  },
  {
   "cell_type": "code",
   "execution_count": 5,
   "metadata": {},
   "outputs": [],
   "source": [
    "train_datagen = ImageDataGenerator(shear_range = 0.25,\n",
    "                                   zoom_range = 0.15,\n",
    "                                   rotation_range = 15,\n",
    "                                   brightness_range = [0.15, 1.15],\n",
    "                                   width_shift_range = [-2,-1, 0, +1, +2],\n",
    "                                   height_shift_range = [ -1, 0, +1],\n",
    "                                   fill_mode = 'reflect')\n",
    "test_datagen = ImageDataGenerator()\n",
    "\n",
    "#train_datagen.fit(x_train)\n",
    "#train_datagen.fit(x_valid)"
   ]
  },
  {
   "cell_type": "code",
   "execution_count": 6,
   "metadata": {
    "_uuid": "f77cadcb59a3f09d599d918dc077d71d48d67c4b"
   },
   "outputs": [],
   "source": [
    "batch_size = 32\n",
    "num_classes = 24\n",
    "epochs = 64"
   ]
  },
  {
   "cell_type": "code",
   "execution_count": 7,
   "metadata": {
    "scrolled": false
   },
   "outputs": [
    {
     "name": "stderr",
     "output_type": "stream",
     "text": [
      "INFO:plaidml:Opening device \"opencl_amd_gfx900.0\"\n"
     ]
    }
   ],
   "source": [
    "def modelMaker(dropout_rate=.40, l2_rate=.001, dense_size=64):\n",
    "    model = Sequential()\n",
    "\n",
    "    model.add(Conv2D(32, kernel_size=(4, 4), input_shape=(28, 28, 1), \n",
    "              kernel_regularizer=regularizers.l2(l2_rate)))\n",
    "    model.add(keras.layers.PReLU(alpha_initializer='zeros', \n",
    "                                 alpha_regularizer=None, alpha_constraint=None, \n",
    "                                 shared_axes=None))\n",
    "    model.add(AveragePooling2D(pool_size = (2, 2), strides=2))\n",
    "    model.add(Dropout(dropout_rate))\n",
    "\n",
    "    model.add(Conv2D(64, kernel_size = (4, 4), kernel_regularizer=regularizers.l2(l2_rate)))\n",
    "    model.add(keras.layers.PReLU(alpha_initializer='zeros', \n",
    "                                 alpha_regularizer=None, alpha_constraint=None, \n",
    "                                 shared_axes=None))\n",
    "    model.add(AveragePooling2D(pool_size = (2, 2), strides=2))\n",
    "    model.add(Dropout(dropout_rate))\n",
    "\n",
    "    model.add(Conv2D(128, kernel_size = (3, 3), kernel_regularizer=regularizers.l2(l2_rate)))\n",
    "    model.add(keras.layers.PReLU(alpha_initializer='zeros', \n",
    "                                 alpha_regularizer=None, alpha_constraint=None, \n",
    "                                 shared_axes=None))\n",
    "    model.add(AveragePooling2D(pool_size = (2, 2), strides=2))\n",
    "    model.add(Dropout(dropout_rate))\n",
    "    \n",
    "    model.add(Flatten())\n",
    "    model.add(Dense(dense_size, kernel_regularizer=regularizers.l2(l2_rate)))\n",
    "    model.add(keras.layers.PReLU(alpha_initializer='zeros', \n",
    "                                 alpha_regularizer=None, alpha_constraint=None, \n",
    "                                 shared_axes=None))\n",
    "    model.add(Dense(num_classes, activation = 'softmax'))\n",
    "\n",
    "    model.compile(loss = keras.losses.kullback_leibler_divergence, \n",
    "                  optimizer=keras.optimizers.Nadam(),metrics=['accuracy'])\n",
    "    return model\n",
    "\n",
    "model = modelMaker()"
   ]
  },
  {
   "cell_type": "code",
   "execution_count": 8,
   "metadata": {
    "scrolled": true
   },
   "outputs": [
    {
     "name": "stdout",
     "output_type": "stream",
     "text": [
      "Train on 21964 samples, validate on 5491 samples\n",
      "Epoch 1/64\n",
      "21964/21964 [==============================] - 18s 808us/step - loss: 1.9277 - acc: 0.4748 - val_loss: 0.6522 - val_acc: 0.8875\n",
      "Epoch 2/64\n",
      "21964/21964 [==============================] - 6s 295us/step - loss: 0.7672 - acc: 0.8488 - val_loss: 0.4279 - val_acc: 0.9730\n",
      "Epoch 3/64\n",
      "21964/21964 [==============================] - 6s 295us/step - loss: 0.8277 - acc: 0.8732 - val_loss: 0.5098 - val_acc: 0.9816\n",
      "Epoch 4/64\n",
      "21964/21964 [==============================] - 7s 300us/step - loss: 0.6453 - acc: 0.9173 - val_loss: 0.5207 - val_acc: 0.9430\n",
      "Epoch 5/64\n",
      "21964/21964 [==============================] - 7s 300us/step - loss: 0.5763 - acc: 0.9336 - val_loss: 0.3893 - val_acc: 0.9909\n",
      "Epoch 6/64\n",
      "21964/21964 [==============================] - 7s 298us/step - loss: 0.5379 - acc: 0.9421 - val_loss: 0.3671 - val_acc: 0.9975\n",
      "Epoch 7/64\n",
      "21964/21964 [==============================] - 7s 308us/step - loss: 0.5678 - acc: 0.9352 - val_loss: 0.3943 - val_acc: 0.9973\n",
      "Epoch 8/64\n",
      "21964/21964 [==============================] - 7s 304us/step - loss: 0.6316 - acc: 0.9273 - val_loss: 0.4611 - val_acc: 0.9991\n",
      "Epoch 9/64\n",
      "21964/21964 [==============================] - 7s 310us/step - loss: 0.5852 - acc: 0.9447 - val_loss: 0.4033 - val_acc: 0.9989\n",
      "Epoch 10/64\n",
      "21964/21964 [==============================] - 7s 314us/step - loss: 0.5300 - acc: 0.9496 - val_loss: 0.3788 - val_acc: 0.9998\n",
      "Epoch 11/64\n",
      "21964/21964 [==============================] - 7s 306us/step - loss: 0.5444 - acc: 0.9468 - val_loss: 0.4038 - val_acc: 0.9973\n",
      "Epoch 12/64\n",
      "21964/21964 [==============================] - 7s 319us/step - loss: 0.5731 - acc: 0.9454 - val_loss: 0.4014 - val_acc: 0.9976\n",
      "Epoch 13/64\n",
      "21964/21964 [==============================] - 7s 313us/step - loss: 0.5596 - acc: 0.9464 - val_loss: 0.4125 - val_acc: 0.9962\n",
      "Epoch 14/64\n",
      "21964/21964 [==============================] - 7s 310us/step - loss: 0.5615 - acc: 0.9465 - val_loss: 0.4166 - val_acc: 0.9975\n",
      "Epoch 15/64\n",
      "21964/21964 [==============================] - 7s 308us/step - loss: 0.5474 - acc: 0.9502 - val_loss: 0.3867 - val_acc: 0.9998\n",
      "Epoch 16/64\n",
      "21964/21964 [==============================] - 7s 311us/step - loss: 0.5383 - acc: 0.9506 - val_loss: 0.4140 - val_acc: 0.9933\n",
      "Epoch 17/64\n",
      "21964/21964 [==============================] - 7s 306us/step - loss: 0.5567 - acc: 0.9486 - val_loss: 0.4110 - val_acc: 0.9996\n",
      "Epoch 18/64\n",
      "21964/21964 [==============================] - 7s 318us/step - loss: 0.5477 - acc: 0.9519 - val_loss: 0.4315 - val_acc: 0.9925\n",
      "Epoch 19/64\n",
      "21964/21964 [==============================] - 7s 330us/step - loss: 0.5563 - acc: 0.9529 - val_loss: 0.3844 - val_acc: 0.9996\n",
      "Epoch 20/64\n",
      "21964/21964 [==============================] - 7s 326us/step - loss: 0.5224 - acc: 0.9522 - val_loss: 0.4388 - val_acc: 0.9882\n",
      "Epoch 21/64\n",
      "21964/21964 [==============================] - 7s 324us/step - loss: 0.6075 - acc: 0.9439 - val_loss: 0.4130 - val_acc: 0.9975\n",
      "Epoch 22/64\n",
      "21964/21964 [==============================] - 7s 312us/step - loss: 0.5193 - acc: 0.9575 - val_loss: 0.3902 - val_acc: 0.9949\n",
      "Epoch 23/64\n",
      "21964/21964 [==============================] - 7s 320us/step - loss: 0.5408 - acc: 0.9503 - val_loss: 0.4116 - val_acc: 0.9991\n",
      "Epoch 24/64\n",
      "21964/21964 [==============================] - 7s 317us/step - loss: 0.5493 - acc: 0.9543 - val_loss: 0.3993 - val_acc: 0.9998\n",
      "Epoch 25/64\n",
      "21964/21964 [==============================] - 7s 310us/step - loss: 0.5675 - acc: 0.9481 - val_loss: 0.4175 - val_acc: 0.9985\n",
      "Epoch 26/64\n",
      "21964/21964 [==============================] - 7s 310us/step - loss: 0.5274 - acc: 0.9563 - val_loss: 0.3843 - val_acc: 0.9989\n",
      "Epoch 27/64\n",
      "21964/21964 [==============================] - 7s 309us/step - loss: 0.5269 - acc: 0.9539 - val_loss: 0.4338 - val_acc: 0.9947\n",
      "Epoch 28/64\n",
      "21964/21964 [==============================] - 7s 319us/step - loss: 0.6081 - acc: 0.9447 - val_loss: 0.4385 - val_acc: 0.9973\n",
      "Epoch 29/64\n",
      "21964/21964 [==============================] - 7s 313us/step - loss: 0.5455 - acc: 0.9560 - val_loss: 0.4040 - val_acc: 0.9971\n",
      "Epoch 30/64\n",
      "21964/21964 [==============================] - 7s 318us/step - loss: 0.5220 - acc: 0.9587 - val_loss: 0.3827 - val_acc: 0.9989\n",
      "Epoch 31/64\n",
      "21964/21964 [==============================] - 7s 313us/step - loss: 0.5088 - acc: 0.9572 - val_loss: 0.3880 - val_acc: 0.9978\n",
      "Epoch 32/64\n",
      "21964/21964 [==============================] - 7s 313us/step - loss: 0.5460 - acc: 0.9520 - val_loss: 0.4039 - val_acc: 0.9998\n",
      "Epoch 33/64\n",
      "21964/21964 [==============================] - 7s 317us/step - loss: 0.5349 - acc: 0.9575 - val_loss: 0.4401 - val_acc: 0.9883\n",
      "Epoch 34/64\n",
      "21964/21964 [==============================] - 7s 315us/step - loss: 0.5433 - acc: 0.9544 - val_loss: 0.4105 - val_acc: 0.9978\n",
      "Epoch 35/64\n",
      "21964/21964 [==============================] - 7s 315us/step - loss: 0.5608 - acc: 0.9518 - val_loss: 0.4095 - val_acc: 0.9978\n",
      "Epoch 36/64\n",
      "21964/21964 [==============================] - 7s 312us/step - loss: 0.5200 - acc: 0.9570 - val_loss: 0.3907 - val_acc: 0.9991\n",
      "Epoch 37/64\n",
      "21964/21964 [==============================] - 7s 316us/step - loss: 0.4958 - acc: 0.9596 - val_loss: 0.3825 - val_acc: 0.9978\n",
      "Epoch 38/64\n",
      "21964/21964 [==============================] - 7s 318us/step - loss: 0.5437 - acc: 0.9542 - val_loss: 0.3985 - val_acc: 0.9987\n",
      "Epoch 39/64\n",
      "21964/21964 [==============================] - 7s 328us/step - loss: 0.5284 - acc: 0.9577 - val_loss: 0.3972 - val_acc: 0.9991\n",
      "Epoch 40/64\n",
      "21964/21964 [==============================] - 7s 320us/step - loss: 0.5025 - acc: 0.9624 - val_loss: 0.3706 - val_acc: 1.0000\n",
      "Epoch 41/64\n",
      "21964/21964 [==============================] - 7s 315us/step - loss: 0.5208 - acc: 0.9549 - val_loss: 0.4132 - val_acc: 0.9989\n",
      "Epoch 42/64\n",
      "21964/21964 [==============================] - 7s 309us/step - loss: 0.5633 - acc: 0.9540 - val_loss: 0.4113 - val_acc: 0.9978\n",
      "Epoch 43/64\n",
      "21964/21964 [==============================] - 7s 309us/step - loss: 0.5255 - acc: 0.9588 - val_loss: 0.3886 - val_acc: 1.0000\n",
      "Epoch 44/64\n",
      "21964/21964 [==============================] - 7s 307us/step - loss: 0.4976 - acc: 0.9629 - val_loss: 0.3858 - val_acc: 0.9969\n",
      "Epoch 45/64\n",
      "21964/21964 [==============================] - 7s 313us/step - loss: 0.5564 - acc: 0.9497 - val_loss: 0.4407 - val_acc: 0.9967\n",
      "Epoch 46/64\n",
      "21964/21964 [==============================] - 7s 313us/step - loss: 0.5569 - acc: 0.9597 - val_loss: 0.3969 - val_acc: 0.9980\n",
      "Epoch 47/64\n",
      "21964/21964 [==============================] - 7s 320us/step - loss: 0.5177 - acc: 0.9616 - val_loss: 0.3899 - val_acc: 0.9993\n",
      "Epoch 48/64\n",
      "21964/21964 [==============================] - 7s 329us/step - loss: 0.5186 - acc: 0.9563 - val_loss: 0.6043 - val_acc: 0.9381\n",
      "Epoch 49/64\n",
      "21964/21964 [==============================] - 7s 317us/step - loss: 0.5680 - acc: 0.9529 - val_loss: 0.4299 - val_acc: 0.9987\n",
      "Epoch 50/64\n",
      "21964/21964 [==============================] - 7s 320us/step - loss: 0.5275 - acc: 0.9621 - val_loss: 0.3892 - val_acc: 0.9993\n",
      "Epoch 51/64\n",
      "21964/21964 [==============================] - 7s 319us/step - loss: 0.5079 - acc: 0.9590 - val_loss: 0.3999 - val_acc: 0.9989\n",
      "Epoch 52/64\n",
      "21964/21964 [==============================] - 7s 311us/step - loss: 0.5419 - acc: 0.9577 - val_loss: 0.3900 - val_acc: 1.0000\n",
      "Epoch 53/64\n",
      "21964/21964 [==============================] - 7s 319us/step - loss: 0.5217 - acc: 0.9571 - val_loss: 0.4222 - val_acc: 0.9964\n",
      "Epoch 54/64\n",
      "21964/21964 [==============================] - 7s 323us/step - loss: 0.5557 - acc: 0.9556 - val_loss: 0.4153 - val_acc: 0.9989\n",
      "Epoch 55/64\n",
      "21964/21964 [==============================] - 7s 323us/step - loss: 0.5069 - acc: 0.9627 - val_loss: 0.3784 - val_acc: 1.0000\n",
      "Epoch 56/64\n",
      "21964/21964 [==============================] - 7s 316us/step - loss: 0.4930 - acc: 0.9611 - val_loss: 0.3809 - val_acc: 0.9991\n",
      "Epoch 57/64\n",
      "21964/21964 [==============================] - 7s 318us/step - loss: 0.5077 - acc: 0.9599 - val_loss: 0.3690 - val_acc: 1.0000\n",
      "Epoch 58/64\n",
      "21964/21964 [==============================] - 7s 320us/step - loss: 0.5145 - acc: 0.9572 - val_loss: 0.3980 - val_acc: 1.0000\n",
      "Epoch 59/64\n"
     ]
    },
    {
     "name": "stdout",
     "output_type": "stream",
     "text": [
      "21964/21964 [==============================] - 7s 335us/step - loss: 0.5491 - acc: 0.9548 - val_loss: 0.4078 - val_acc: 1.0000\n",
      "Epoch 60/64\n",
      "21964/21964 [==============================] - 7s 333us/step - loss: 0.4999 - acc: 0.9657 - val_loss: 0.3719 - val_acc: 0.9934\n",
      "Epoch 61/64\n",
      "21964/21964 [==============================] - 7s 324us/step - loss: 0.4943 - acc: 0.9608 - val_loss: 0.3575 - val_acc: 0.9995\n",
      "Epoch 62/64\n",
      "21964/21964 [==============================] - 7s 324us/step - loss: 0.4781 - acc: 0.9616 - val_loss: 0.3752 - val_acc: 0.9991\n",
      "Epoch 63/64\n",
      "21964/21964 [==============================] - 7s 330us/step - loss: 0.5141 - acc: 0.9586 - val_loss: 0.4039 - val_acc: 0.9998\n",
      "Epoch 64/64\n",
      "21964/21964 [==============================] - 7s 337us/step - loss: 0.5671 - acc: 0.9542 - val_loss: 0.4326 - val_acc: 0.9989\n"
     ]
    }
   ],
   "source": [
    "history = model.fit(x_train, y_train, validation_data = (x_valid, y_valid), \n",
    "                    epochs=epochs, batch_size=batch_size)"
   ]
  },
  {
   "cell_type": "code",
   "execution_count": 9,
   "metadata": {
    "scrolled": false
   },
   "outputs": [
    {
     "data": {
      "image/png": "[encoded data removed]",
      "text/plain": [
       "<Figure size 432x288 with 1 Axes>"
      ]
     },
     "metadata": {
      "needs_background": "light"
     },
     "output_type": "display_data"
    }
   ],
   "source": [
    "plt.plot(history.history['acc'])\n",
    "plt.plot(history.history['val_acc'])\n",
    "plt.title(\"Accuracy\")\n",
    "plt.xlabel('epoch')\n",
    "plt.ylabel('accuracy')\n",
    "plt.legend(['train','test'])\n",
    "plt.show()"
   ]
  },
  {
   "cell_type": "code",
   "execution_count": 10,
   "metadata": {},
   "outputs": [
    {
     "data": {
      "text/plain": [
       "0.9552426101505856"
      ]
     },
     "execution_count": 10,
     "metadata": {},
     "output_type": "execute_result"
    }
   ],
   "source": [
    "test_images = np.array([i.flatten() for i in test_images])\n",
    "test_images = test_images.reshape(test_images.shape[0], 28, 28, 1)\n",
    "y_pred = model.predict(test_images)\n",
    "\n",
    "accuracy_score(test_y_values, y_pred.round())\n",
    "\n"
   ]
  },
  {
   "cell_type": "code",
   "execution_count": null,
   "metadata": {},
   "outputs": [],
   "source": []
  }
 ],
 "metadata": {
  "kernelspec": {
   "display_name": "Python 3",
   "language": "python",
   "name": "python3"
  },
  "language_info": {
   "codemirror_mode": {
    "name": "ipython",
    "version": 3
   },
   "file_extension": ".py",
   "mimetype": "text/x-python",
   "name": "python",
   "nbconvert_exporter": "python",
   "pygments_lexer": "ipython3",
   "version": "3.7.2"
  }
 },
 "nbformat": 4,
 "nbformat_minor": 1
}
