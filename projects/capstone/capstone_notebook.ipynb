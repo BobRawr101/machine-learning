{
 "cells": [
  {
   "cell_type": "code",
   "execution_count": 3,
   "metadata": {
    "_cell_guid": "b1076dfc-b9ad-4769-8c92-a6c4dae69d19",
    "_uuid": "8f2839f25d086af736a60e9eeb907d3b93b6e0e5"
   },
   "outputs": [],
   "source": [
    "import numpy as np # linear algebra\n",
    "import pandas as pd # data processing, CSV file I/O (e.g. pd.read_csv)\n",
    "import matplotlib.pyplot as plt\n",
    "import os\n",
    "\n",
    "os.environ['KERAS_BACKEND'] = 'plaidml.keras.backend'\n",
    "import keras\n",
    "from keras.models import Sequential\n",
    "from keras.layers import Dense, LocallyConnected2D, Conv2D, MaxPooling2D, AveragePooling2D, Flatten, Dropout, Activation\n",
    "from keras.preprocessing.image import ImageDataGenerator\n",
    "from keras.utils import plot_model\n",
    "from keras import regularizers\n",
    "from keras import optimizers\n",
    "from sklearn.preprocessing import LabelBinarizer\n",
    "from sklearn.model_selection import train_test_split\n",
    "from sklearn.metrics import accuracy_score\n",
    "import seaborn as sns"
   ]
  },
  {
   "cell_type": "markdown",
   "metadata": {},
   "source": [
    "# Look at Data"
   ]
  },
  {
   "cell_type": "code",
   "execution_count": 4,
   "metadata": {},
   "outputs": [
    {
     "data": {
      "text/plain": [
       "<matplotlib.axes._subplots.AxesSubplot at 0x7f6e2441fc18>"
      ]
     },
     "execution_count": 4,
     "metadata": {},
     "output_type": "execute_result"
    },
    {
     "data": {
      "image/png": "[encoded data removed]",
      "text/plain": [
       "<Figure size 432x288 with 1 Axes>"
      ]
     },
     "metadata": {
      "needs_background": "light"
     },
     "output_type": "display_data"
    }
   ],
   "source": [
    "train = open('data/sign_mnist_train.csv')\n",
    "train_df = pd.read_csv(train)\n",
    "label_counts = pd.value_counts(train_df.label).to_frame()\n",
    "label_counts['x'] = label_counts.index\n",
    "label_counts = label_counts.rename(columns={'label': 'y'})\n",
    "label_counts\n",
    "sns.barplot(x='x', y='y', data=label_counts)"
   ]
  },
  {
   "cell_type": "code",
   "execution_count": 5,
   "metadata": {
    "_uuid": "405528577ed1abd061cae2f5639569e839ab7761"
   },
   "outputs": [],
   "source": [
    "train = open('data/sign_mnist_train.csv')\n",
    "test = open('data/sign_mnist_test.csv')\n",
    "\n",
    "train_df = pd.read_csv(train)\n",
    "test_df = pd.read_csv(test)\n",
    "\n",
    "# labels represents letters. \n",
    "train_y_values = train_df.label.values\n",
    "test_y_values = test_df.label.values\n",
    "\n",
    "label_binarizer = LabelBinarizer()\n",
    "train_y_values = label_binarizer.fit_transform(train_y_values)\n",
    "test_y_values = label_binarizer.fit_transform(test_y_values)\n",
    "\n",
    "train_df.drop('label', axis=1, inplace=True)\n",
    "test_df.drop('label', axis=1, inplace=True)"
   ]
  },
  {
   "cell_type": "code",
   "execution_count": 6,
   "metadata": {
    "_uuid": "d547efd667aa1510f7f9398ecf6bf494a6c414ae"
   },
   "outputs": [],
   "source": [
    "train_images = np.array([row.values.reshape(28, 28) for i, row in train_df.iterrows()])\n",
    "test_images = np.array([row.values.reshape(28, 28) for i, row in test_df.iterrows()])\n",
    "#train_images = train_images / 255\n",
    "#test_images = test_images / 255"
   ]
  },
  {
   "cell_type": "code",
   "execution_count": 7,
   "metadata": {
    "_uuid": "bbb223c8b1205ce7849faa166f5d93d0adbef520"
   },
   "outputs": [],
   "source": [
    "x_train, x_valid, y_train, y_valid = train_test_split(train_images, train_y_values, \n",
    "                                                      test_size = 0.2,\n",
    "                                                      random_state = 64209)\n",
    "\n",
    "x_train = np.array(x_train)\n",
    "x_train = x_train.reshape(x_train.shape[0], 28, 28, 1)\n",
    "x_valid = np.array(x_valid)\n",
    "x_valid = x_valid.reshape(x_valid.shape[0], 28, 28, 1)"
   ]
  },
  {
   "cell_type": "code",
   "execution_count": 8,
   "metadata": {},
   "outputs": [],
   "source": [
    "train_datagen = ImageDataGenerator(shear_range = 0.00,\n",
    "                                   zoom_range = 0.10,\n",
    "                                   rotation_range = 5,\n",
    "                                   brightness_range = [0.05, 1.05],\n",
    "                                   width_shift_range = [-2,-1, 0, +1, +2],\n",
    "                                   height_shift_range = [ -1, 0, +1],\n",
    "                                   fill_mode = 'reflect')\n",
    "test_datagen = ImageDataGenerator()\n",
    " \n",
    "train_datagen.fit(x_train)\n",
    "#train_datagen.fit(x_valid)"
   ]
  },
  {
   "cell_type": "markdown",
   "metadata": {},
   "source": [
    "# Lets look at some of the images"
   ]
  },
  {
   "cell_type": "markdown",
   "metadata": {},
   "source": [
    "## Unaltered image"
   ]
  },
  {
   "cell_type": "code",
   "execution_count": 9,
   "metadata": {},
   "outputs": [
    {
     "data": {
      "text/plain": [
       "<matplotlib.image.AxesImage at 0x7f6e1e127ac8>"
      ]
     },
     "execution_count": 9,
     "metadata": {},
     "output_type": "execute_result"
    },
    {
     "data": {
      "image/png": "[encoded data removed]",
      "text/plain": [
       "<Figure size 432x288 with 1 Axes>"
      ]
     },
     "metadata": {
      "needs_background": "light"
     },
     "output_type": "display_data"
    }
   ],
   "source": [
    "plt.imshow(train_images[0].reshape(28,28))"
   ]
  },
  {
   "cell_type": "markdown",
   "metadata": {},
   "source": [
    "## Altered Image"
   ]
  },
  {
   "cell_type": "code",
   "execution_count": 10,
   "metadata": {},
   "outputs": [
    {
     "data": {
      "text/plain": [
       "<matplotlib.image.AxesImage at 0x7f6e242204e0>"
      ]
     },
     "execution_count": 10,
     "metadata": {},
     "output_type": "execute_result"
    },
    {
     "data": {
      "image/png": "[encoded data removed]",
      "text/plain": [
       "<Figure size 432x288 with 1 Axes>"
      ]
     },
     "metadata": {
      "needs_background": "light"
     },
     "output_type": "display_data"
    }
   ],
   "source": [
    "plt.imshow((train_datagen.flow(x_train)[0][0].reshape(28, 28)))"
   ]
  },
  {
   "cell_type": "code",
   "execution_count": 11,
   "metadata": {
    "_uuid": "f77cadcb59a3f09d599d918dc077d71d48d67c4b"
   },
   "outputs": [],
   "source": [
    "batch_size = 64\n",
    "num_classes = 24\n",
    "epochs = 64"
   ]
  },
  {
   "cell_type": "code",
   "execution_count": 24,
   "metadata": {
    "scrolled": false
   },
   "outputs": [],
   "source": [
    "def modelMaker(dropout_rate=.20, l_rate=.001):\n",
    "    model = Sequential()\n",
    "\n",
    "    model.add(Conv2D(32, kernel_size=(3, 3), input_shape=(28, 28, 1), padding='same',\n",
    "              kernel_regularizer=regularizers.l1_l2(l1=l_rate, l2=l_rate)))\n",
    "    model.add(keras.layers.PReLU(alpha_initializer='zeros', \n",
    "                                 alpha_regularizer=None, alpha_constraint=None, \n",
    "                                 shared_axes=None))\n",
    "    model.add(MaxPooling2D(pool_size = (3, 3), strides=2, padding='same'))\n",
    "    model.add(Dropout(dropout_rate))\n",
    "\n",
    "    model.add(Conv2D(64, kernel_size = (3, 3), padding='same', \n",
    "                     kernel_regularizer=regularizers.l1_l2(l1=l_rate, l2=l_rate)))\n",
    "    model.add(keras.layers.PReLU(alpha_initializer='zeros', \n",
    "                                 alpha_regularizer=None, alpha_constraint=None, \n",
    "                                 shared_axes=None))\n",
    "    model.add(MaxPooling2D(pool_size = (3, 3), strides=2, padding='same'))\n",
    "    model.add(Dropout(dropout_rate))\n",
    "\n",
    "    model.add(Conv2D(128, kernel_size = (4, 4), padding='same', \n",
    "                     kernel_regularizer=regularizers.l1_l2(l1=l_rate, l2=l_rate)))\n",
    "    model.add(keras.layers.PReLU(alpha_initializer='zeros', \n",
    "                                 alpha_regularizer=None, alpha_constraint=None, \n",
    "                                 shared_axes=None))\n",
    "    model.add(MaxPooling2D(pool_size = (3, 3), strides=2, padding='same'))\n",
    "    model.add(Dropout(dropout_rate))\n",
    "    \n",
    "    model.add(Flatten())\n",
    "    model.add(Dense(num_classes, activation = 'softmax', kernel_regularizer=regularizers.l1_l2(l1=l_rate, l2=l_rate)))\n",
    "\n",
    "    model.compile(loss = keras.losses.categorical_crossentropy,\n",
    "                  optimizer=keras.optimizers.Adam(), metrics=['accuracy'])\n",
    "    return model\n",
    "\n",
    "model = modelMaker()"
   ]
  },
  {
   "cell_type": "code",
   "execution_count": 25,
   "metadata": {},
   "outputs": [],
   "source": [
    "plot_model(model, show_shapes=True, to_file='model.png')"
   ]
  },
  {
   "cell_type": "code",
   "execution_count": 26,
   "metadata": {
    "scrolled": true
   },
   "outputs": [
    {
     "name": "stdout",
     "output_type": "stream",
     "text": [
      "Epoch 1/64\n"
     ]
    },
    {
     "name": "stderr",
     "output_type": "stream",
     "text": [
      "INFO:plaidml:Analyzing Ops: 430 of 447 operations complete\n"
     ]
    },
    {
     "name": "stdout",
     "output_type": "stream",
     "text": [
      " 97/344 [=======>......................] - ETA: 21s - loss: 11.5366 - acc: 0.0495"
     ]
    },
    {
     "name": "stderr",
     "output_type": "stream",
     "text": [
      "INFO:plaidml:Analyzing Ops: 138 of 447 operations complete\n"
     ]
    },
    {
     "name": "stdout",
     "output_type": "stream",
     "text": [
      "344/344 [==============================] - 25s 71ms/step - loss: 8.0384 - acc: 0.1799 - val_loss: 4.7758 - val_acc: 0.6174\n",
      "Epoch 2/64\n",
      "344/344 [==============================] - 7s 21ms/step - loss: 4.5261 - acc: 0.6275 - val_loss: 3.0968 - val_acc: 0.8940\n",
      "Epoch 3/64\n",
      "344/344 [==============================] - 7s 21ms/step - loss: 3.2829 - acc: 0.7666 - val_loss: 2.2602 - val_acc: 0.9499\n",
      "Epoch 4/64\n",
      "344/344 [==============================] - 7s 21ms/step - loss: 2.5003 - acc: 0.8194 - val_loss: 1.7514 - val_acc: 0.9481\n",
      "Epoch 5/64\n",
      "344/344 [==============================] - 7s 21ms/step - loss: 1.9868 - acc: 0.8495 - val_loss: 1.3538 - val_acc: 0.9678\n",
      "Epoch 6/64\n",
      "344/344 [==============================] - 7s 21ms/step - loss: 1.5969 - acc: 0.8755 - val_loss: 1.0685 - val_acc: 0.9876\n",
      "Epoch 7/64\n",
      "344/344 [==============================] - 7s 21ms/step - loss: 1.3611 - acc: 0.8885 - val_loss: 0.8995 - val_acc: 0.9909\n",
      "Epoch 8/64\n",
      "344/344 [==============================] - 7s 21ms/step - loss: 1.2047 - acc: 0.9001 - val_loss: 0.7891 - val_acc: 0.9918\n",
      "Epoch 9/64\n",
      "344/344 [==============================] - 7s 21ms/step - loss: 1.0952 - acc: 0.9071 - val_loss: 0.7184 - val_acc: 0.9907\n",
      "Epoch 10/64\n",
      "344/344 [==============================] - 7s 21ms/step - loss: 1.0276 - acc: 0.9132 - val_loss: 0.6852 - val_acc: 0.9903\n",
      "Epoch 11/64\n",
      "344/344 [==============================] - 7s 21ms/step - loss: 0.9641 - acc: 0.9192 - val_loss: 0.6670 - val_acc: 0.9865\n",
      "Epoch 12/64\n",
      "344/344 [==============================] - 7s 21ms/step - loss: 0.9217 - acc: 0.9230 - val_loss: 0.6345 - val_acc: 0.9938\n",
      "Epoch 13/64\n",
      "344/344 [==============================] - 7s 21ms/step - loss: 0.8853 - acc: 0.9299 - val_loss: 0.6121 - val_acc: 0.9967\n",
      "Epoch 14/64\n",
      "344/344 [==============================] - 7s 21ms/step - loss: 0.8762 - acc: 0.9287 - val_loss: 0.6166 - val_acc: 0.9965\n",
      "Epoch 15/64\n",
      "344/344 [==============================] - 7s 21ms/step - loss: 0.8775 - acc: 0.9275 - val_loss: 0.6407 - val_acc: 0.9911\n",
      "Epoch 16/64\n",
      "344/344 [==============================] - 7s 21ms/step - loss: 0.8521 - acc: 0.9350 - val_loss: 0.5964 - val_acc: 0.9978\n",
      "Epoch 17/64\n",
      "344/344 [==============================] - 7s 21ms/step - loss: 0.8420 - acc: 0.9341 - val_loss: 0.6030 - val_acc: 0.9933\n",
      "Epoch 18/64\n",
      "344/344 [==============================] - 7s 22ms/step - loss: 0.8221 - acc: 0.9388 - val_loss: 0.5788 - val_acc: 0.9962\n",
      "Epoch 19/64\n",
      "344/344 [==============================] - 7s 21ms/step - loss: 0.7986 - acc: 0.9430 - val_loss: 0.5869 - val_acc: 0.9964\n",
      "Epoch 20/64\n",
      "344/344 [==============================] - 7s 21ms/step - loss: 0.8054 - acc: 0.9404 - val_loss: 0.5735 - val_acc: 0.9971\n",
      "Epoch 21/64\n",
      "344/344 [==============================] - 7s 22ms/step - loss: 0.8040 - acc: 0.9425 - val_loss: 0.6309 - val_acc: 0.9843\n",
      "Epoch 22/64\n",
      "344/344 [==============================] - 7s 22ms/step - loss: 0.8336 - acc: 0.9387 - val_loss: 0.6044 - val_acc: 0.9971\n",
      "Epoch 23/64\n",
      "344/344 [==============================] - 7s 22ms/step - loss: 0.8210 - acc: 0.9425 - val_loss: 0.5815 - val_acc: 0.9954\n",
      "Epoch 24/64\n",
      "344/344 [==============================] - 7s 21ms/step - loss: 0.7981 - acc: 0.9450 - val_loss: 0.5656 - val_acc: 0.9984\n",
      "Epoch 25/64\n",
      "344/344 [==============================] - 7s 21ms/step - loss: 0.7944 - acc: 0.9446 - val_loss: 0.5717 - val_acc: 0.9976\n",
      "Epoch 26/64\n",
      "344/344 [==============================] - 7s 21ms/step - loss: 0.7784 - acc: 0.9451 - val_loss: 0.5869 - val_acc: 0.9965\n",
      "Epoch 27/64\n",
      "344/344 [==============================] - 7s 21ms/step - loss: 0.7708 - acc: 0.9494 - val_loss: 0.5729 - val_acc: 0.9967\n",
      "Epoch 28/64\n",
      "344/344 [==============================] - 7s 21ms/step - loss: 0.7876 - acc: 0.9457 - val_loss: 0.5731 - val_acc: 0.9976\n",
      "Epoch 29/64\n",
      "344/344 [==============================] - 7s 21ms/step - loss: 0.8067 - acc: 0.9446 - val_loss: 0.5805 - val_acc: 0.9975\n",
      "Epoch 30/64\n",
      "344/344 [==============================] - 7s 21ms/step - loss: 0.7835 - acc: 0.9474 - val_loss: 0.6037 - val_acc: 0.9925\n",
      "Epoch 31/64\n",
      "344/344 [==============================] - 7s 21ms/step - loss: 0.7780 - acc: 0.9496 - val_loss: 0.5628 - val_acc: 0.9984\n",
      "Epoch 32/64\n",
      "344/344 [==============================] - 7s 21ms/step - loss: 0.7518 - acc: 0.9493 - val_loss: 0.5862 - val_acc: 0.9989\n",
      "Epoch 33/64\n",
      "344/344 [==============================] - 7s 21ms/step - loss: 0.7675 - acc: 0.9507 - val_loss: 0.5825 - val_acc: 0.9964\n",
      "Epoch 34/64\n",
      "344/344 [==============================] - 7s 21ms/step - loss: 0.7608 - acc: 0.9502 - val_loss: 0.5612 - val_acc: 0.9964\n",
      "Epoch 35/64\n",
      "344/344 [==============================] - 7s 21ms/step - loss: 0.7757 - acc: 0.9475 - val_loss: 0.5734 - val_acc: 0.9964\n",
      "Epoch 36/64\n",
      "344/344 [==============================] - 7s 21ms/step - loss: 0.7670 - acc: 0.9491 - val_loss: 0.5880 - val_acc: 0.9953\n",
      "Epoch 37/64\n",
      "344/344 [==============================] - 7s 21ms/step - loss: 0.7496 - acc: 0.9532 - val_loss: 0.5960 - val_acc: 0.9914\n",
      "Epoch 38/64\n",
      "344/344 [==============================] - 7s 21ms/step - loss: 0.7582 - acc: 0.9512 - val_loss: 0.5613 - val_acc: 0.9964\n",
      "Epoch 39/64\n",
      "344/344 [==============================] - 7s 21ms/step - loss: 0.7215 - acc: 0.9540 - val_loss: 0.5377 - val_acc: 0.9985\n",
      "Epoch 40/64\n",
      "344/344 [==============================] - 7s 21ms/step - loss: 0.7832 - acc: 0.9471 - val_loss: 0.5906 - val_acc: 0.9933\n",
      "Epoch 41/64\n",
      "344/344 [==============================] - 7s 21ms/step - loss: 0.7650 - acc: 0.9506 - val_loss: 0.5567 - val_acc: 0.9998\n",
      "Epoch 42/64\n",
      "344/344 [==============================] - 7s 21ms/step - loss: 0.7838 - acc: 0.9479 - val_loss: 0.6045 - val_acc: 0.9954\n",
      "Epoch 43/64\n",
      "344/344 [==============================] - 7s 21ms/step - loss: 0.7636 - acc: 0.9532 - val_loss: 0.5638 - val_acc: 0.9973\n",
      "Epoch 44/64\n",
      "344/344 [==============================] - 7s 21ms/step - loss: 0.7398 - acc: 0.9529 - val_loss: 0.5546 - val_acc: 0.9971\n",
      "Epoch 45/64\n",
      "344/344 [==============================] - 7s 22ms/step - loss: 0.7334 - acc: 0.9543 - val_loss: 0.5602 - val_acc: 0.9956\n",
      "Epoch 46/64\n",
      "344/344 [==============================] - 7s 21ms/step - loss: 0.7234 - acc: 0.9540 - val_loss: 0.5525 - val_acc: 0.9944\n",
      "Epoch 47/64\n",
      "344/344 [==============================] - 7s 21ms/step - loss: 0.7684 - acc: 0.9467 - val_loss: 0.5586 - val_acc: 0.9995\n",
      "Epoch 48/64\n",
      "344/344 [==============================] - 7s 21ms/step - loss: 0.7297 - acc: 0.9525 - val_loss: 0.5299 - val_acc: 1.0000\n",
      "Epoch 49/64\n",
      "344/344 [==============================] - 7s 21ms/step - loss: 0.7182 - acc: 0.9554 - val_loss: 0.5365 - val_acc: 0.9991\n",
      "Epoch 50/64\n",
      "344/344 [==============================] - 7s 21ms/step - loss: 0.7215 - acc: 0.9550 - val_loss: 0.5480 - val_acc: 0.9973\n",
      "Epoch 51/64\n",
      "344/344 [==============================] - 7s 21ms/step - loss: 0.7034 - acc: 0.9559 - val_loss: 0.5342 - val_acc: 0.9987\n",
      "Epoch 52/64\n",
      "344/344 [==============================] - 7s 21ms/step - loss: 0.7205 - acc: 0.9539 - val_loss: 0.5299 - val_acc: 1.0000\n",
      "Epoch 53/64\n",
      "344/344 [==============================] - 7s 22ms/step - loss: 0.7744 - acc: 0.9508 - val_loss: 0.5806 - val_acc: 0.9931\n",
      "Epoch 54/64\n",
      "344/344 [==============================] - 7s 21ms/step - loss: 0.7414 - acc: 0.9556 - val_loss: 0.5280 - val_acc: 0.9995\n",
      "Epoch 55/64\n",
      "344/344 [==============================] - 7s 22ms/step - loss: 0.7140 - acc: 0.9552 - val_loss: 0.5376 - val_acc: 0.9996\n",
      "Epoch 56/64\n",
      "344/344 [==============================] - 7s 21ms/step - loss: 0.7080 - acc: 0.9580 - val_loss: 0.5364 - val_acc: 0.9933\n",
      "Epoch 57/64\n",
      "344/344 [==============================] - 7s 21ms/step - loss: 0.7305 - acc: 0.9511 - val_loss: 0.5401 - val_acc: 0.9969\n",
      "Epoch 58/64\n",
      "344/344 [==============================] - 7s 21ms/step - loss: 0.7019 - acc: 0.9560 - val_loss: 0.5372 - val_acc: 0.9976\n",
      "Epoch 59/64\n",
      "344/344 [==============================] - 7s 21ms/step - loss: 0.7095 - acc: 0.9544 - val_loss: 0.5756 - val_acc: 0.9918\n",
      "Epoch 60/64\n",
      "344/344 [==============================] - 7s 22ms/step - loss: 0.7477 - acc: 0.9520 - val_loss: 0.5452 - val_acc: 0.9975\n",
      "Epoch 61/64\n",
      "344/344 [==============================] - 7s 22ms/step - loss: 0.7167 - acc: 0.9554 - val_loss: 0.5630 - val_acc: 0.9945\n",
      "Epoch 62/64\n"
     ]
    },
    {
     "name": "stdout",
     "output_type": "stream",
     "text": [
      "344/344 [==============================] - 7s 21ms/step - loss: 0.7158 - acc: 0.9553 - val_loss: 0.5562 - val_acc: 0.9996\n",
      "Epoch 63/64\n",
      "344/344 [==============================] - 7s 21ms/step - loss: 0.7312 - acc: 0.9544 - val_loss: 0.5583 - val_acc: 0.9949\n",
      "Epoch 64/64\n",
      "344/344 [==============================] - 7s 21ms/step - loss: 0.7198 - acc: 0.9539 - val_loss: 0.5528 - val_acc: 0.9993\n"
     ]
    }
   ],
   "source": [
    "# pure images\n",
    "#history = model.fit(x_train, y_train, validation_data = (x_valid, y_valid), \n",
    "#                    epochs=epochs, batch_size=batch_size)\n",
    "# altered images\n",
    "history = model.fit_generator(train_datagen.flow(x_train, y_train, batch_size=batch_size), \n",
    "                              validation_data = (x_valid, y_valid), epochs=epochs)"
   ]
  },
  {
   "cell_type": "code",
   "execution_count": 27,
   "metadata": {
    "scrolled": false
   },
   "outputs": [
    {
     "data": {
      "image/png": "[encoded data removed]",
      "text/plain": [
       "<Figure size 432x288 with 1 Axes>"
      ]
     },
     "metadata": {
      "needs_background": "light"
     },
     "output_type": "display_data"
    }
   ],
   "source": [
    "plt.plot(history.history['acc'])\n",
    "plt.plot(history.history['val_acc'])\n",
    "plt.title(\"Accuracy\")\n",
    "plt.xlabel('epoch')\n",
    "plt.ylabel('accuracy')\n",
    "plt.legend(['train','validation'])\n",
    "plt.show()"
   ]
  },
  {
   "cell_type": "code",
   "execution_count": 28,
   "metadata": {},
   "outputs": [
    {
     "data": {
      "text/plain": [
       "0.9919129949804797"
      ]
     },
     "execution_count": 28,
     "metadata": {},
     "output_type": "execute_result"
    }
   ],
   "source": [
    "test_images = np.array([i.flatten() for i in test_images])\n",
    "test_images = test_images.reshape(test_images.shape[0], 28, 28, 1)\n",
    "y_pred = model.predict(test_images)\n",
    "\n",
    "accuracy_score(test_y_values, y_pred.round())\n",
    "\n"
   ]
  },
  {
   "cell_type": "code",
   "execution_count": null,
   "metadata": {},
   "outputs": [],
   "source": [
    "from ann_visualizer.visualize import ann_viz\n",
    "\n",
    "ann_viz(model, title=\"My first neural network\")"
   ]
  },
  {
   "cell_type": "code",
   "execution_count": null,
   "metadata": {},
   "outputs": [],
   "source": []
  }
 ],
 "metadata": {
  "kernelspec": {
   "display_name": "Python 3",
   "language": "python",
   "name": "python3"
  },
  "language_info": {
   "codemirror_mode": {
    "name": "ipython",
    "version": 3
   },
   "file_extension": ".py",
   "mimetype": "text/x-python",
   "name": "python",
   "nbconvert_exporter": "python",
   "pygments_lexer": "ipython3",
   "version": "3.7.3"
  }
 },
 "nbformat": 4,
 "nbformat_minor": 1
}
