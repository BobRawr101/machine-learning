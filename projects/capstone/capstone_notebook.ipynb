{
 "cells": [
  {
   "cell_type": "code",
   "execution_count": 1,
   "metadata": {
    "_cell_guid": "b1076dfc-b9ad-4769-8c92-a6c4dae69d19",
    "_uuid": "8f2839f25d086af736a60e9eeb907d3b93b6e0e5"
   },
   "outputs": [
    {
     "name": "stderr",
     "output_type": "stream",
     "text": [
      "Using plaidml.keras.backend backend.\n"
     ]
    }
   ],
   "source": [
    "import numpy as np # linear algebra\n",
    "import pandas as pd # data processing, CSV file I/O (e.g. pd.read_csv)\n",
    "import matplotlib.pyplot as plt\n",
    "import os\n",
    "\n",
    "os.environ['KERAS_BACKEND'] = 'plaidml.keras.backend'\n",
    "import keras\n",
    "from keras.models import Sequential\n",
    "from keras.layers import Dense, LocallyConnected2D, Conv2D, MaxPooling2D, AveragePooling2D, Flatten, Dropout, Activation\n",
    "from keras.preprocessing.image import ImageDataGenerator\n",
    "from keras.utils import plot_model\n",
    "from keras import regularizers\n",
    "from keras import optimizers\n",
    "from sklearn.preprocessing import LabelBinarizer\n",
    "from sklearn.model_selection import train_test_split\n",
    "from sklearn.metrics import accuracy_score\n",
    "import seaborn as sns"
   ]
  },
  {
   "cell_type": "markdown",
   "metadata": {},
   "source": [
    "# Look at Data"
   ]
  },
  {
   "cell_type": "code",
   "execution_count": 2,
   "metadata": {},
   "outputs": [
    {
     "data": {
      "text/plain": [
       "<matplotlib.axes._subplots.AxesSubplot at 0x7f4da1fea908>"
      ]
     },
     "execution_count": 2,
     "metadata": {},
     "output_type": "execute_result"
    },
    {
     "data": {
      "image/png": "[encoded data removed]",
      "text/plain": [
       "<Figure size 432x288 with 1 Axes>"
      ]
     },
     "metadata": {
      "needs_background": "light"
     },
     "output_type": "display_data"
    }
   ],
   "source": [
    "train = open('data/sign_mnist_train.csv')\n",
    "train_df = pd.read_csv(train)\n",
    "label_counts = pd.value_counts(train_df.label).to_frame()\n",
    "label_counts['x'] = label_counts.index\n",
    "label_counts = label_counts.rename(columns={'label': 'y'})\n",
    "label_counts\n",
    "sns.barplot(x='x', y='y', data=label_counts)"
   ]
  },
  {
   "cell_type": "code",
   "execution_count": 3,
   "metadata": {
    "_uuid": "405528577ed1abd061cae2f5639569e839ab7761"
   },
   "outputs": [],
   "source": [
    "train = open('data/sign_mnist_train.csv')\n",
    "test = open('data/sign_mnist_test.csv')\n",
    "\n",
    "train_df = pd.read_csv(train)\n",
    "test_df = pd.read_csv(test)\n",
    "\n",
    "# labels represents letters. \n",
    "train_y_values = train_df.label.values\n",
    "test_y_values = test_df.label.values\n",
    "\n",
    "label_binarizer = LabelBinarizer()\n",
    "train_y_values = label_binarizer.fit_transform(train_y_values)\n",
    "test_y_values = label_binarizer.fit_transform(test_y_values)\n",
    "\n",
    "train_df.drop('label', axis=1, inplace=True)\n",
    "test_df.drop('label', axis=1, inplace=True)"
   ]
  },
  {
   "cell_type": "code",
   "execution_count": 4,
   "metadata": {
    "_uuid": "d547efd667aa1510f7f9398ecf6bf494a6c414ae"
   },
   "outputs": [],
   "source": [
    "train_images = np.array([row.values.reshape(28, 28) for i, row in train_df.iterrows()])\n",
    "test_images = np.array([row.values.reshape(28, 28) for i, row in test_df.iterrows()])\n",
    "#train_images = train_images / 255\n",
    "#test_images = test_images / 255"
   ]
  },
  {
   "cell_type": "code",
   "execution_count": 5,
   "metadata": {
    "_uuid": "bbb223c8b1205ce7849faa166f5d93d0adbef520"
   },
   "outputs": [],
   "source": [
    "x_train, x_valid, y_train, y_valid = train_test_split(train_images, train_y_values, \n",
    "                                                      test_size = 0.2,\n",
    "                                                      random_state = 64209)\n",
    "\n",
    "x_train = np.array(x_train)\n",
    "x_train = x_train.reshape(x_train.shape[0], 28, 28, 1)\n",
    "x_valid = np.array(x_valid)\n",
    "x_valid = x_valid.reshape(x_valid.shape[0], 28, 28, 1)"
   ]
  },
  {
   "cell_type": "code",
   "execution_count": 6,
   "metadata": {},
   "outputs": [],
   "source": [
    "train_datagen = ImageDataGenerator(shear_range = 0.00,\n",
    "                                   zoom_range = 0.10,\n",
    "                                   rotation_range = 5,\n",
    "                                   brightness_range = [0.05, 1.05],\n",
    "                                   width_shift_range = [-2,-1, 0, +1, +2],\n",
    "                                   height_shift_range = [ -1, 0, +1],\n",
    "                                   fill_mode = 'reflect')\n",
    "test_datagen = ImageDataGenerator()\n",
    " \n",
    "train_datagen.fit(x_train)\n",
    "#train_datagen.fit(x_valid)"
   ]
  },
  {
   "cell_type": "markdown",
   "metadata": {},
   "source": [
    "# Lets look at some of the images"
   ]
  },
  {
   "cell_type": "markdown",
   "metadata": {},
   "source": [
    "## Unaltered image"
   ]
  },
  {
   "cell_type": "code",
   "execution_count": 7,
   "metadata": {},
   "outputs": [
    {
     "data": {
      "text/plain": [
       "<matplotlib.image.AxesImage at 0x7f4d9fcfaba8>"
      ]
     },
     "execution_count": 7,
     "metadata": {},
     "output_type": "execute_result"
    },
    {
     "data": {
      "image/png": "[encoded data removed]",
      "text/plain": [
       "<Figure size 432x288 with 1 Axes>"
      ]
     },
     "metadata": {
      "needs_background": "light"
     },
     "output_type": "display_data"
    }
   ],
   "source": [
    "plt.imshow(train_images[0].reshape(28,28))"
   ]
  },
  {
   "cell_type": "markdown",
   "metadata": {},
   "source": [
    "## Altered Image"
   ]
  },
  {
   "cell_type": "code",
   "execution_count": 8,
   "metadata": {},
   "outputs": [
    {
     "data": {
      "text/plain": [
       "<matplotlib.image.AxesImage at 0x7f4da1dee5c0>"
      ]
     },
     "execution_count": 8,
     "metadata": {},
     "output_type": "execute_result"
    },
    {
     "data": {
      "image/png": "[encoded data removed]",
      "text/plain": [
       "<Figure size 432x288 with 1 Axes>"
      ]
     },
     "metadata": {
      "needs_background": "light"
     },
     "output_type": "display_data"
    }
   ],
   "source": [
    "plt.imshow((train_datagen.flow(x_train)[0][0].reshape(28, 28)))"
   ]
  },
  {
   "cell_type": "code",
   "execution_count": 9,
   "metadata": {
    "_uuid": "f77cadcb59a3f09d599d918dc077d71d48d67c4b"
   },
   "outputs": [],
   "source": [
    "batch_size = 64\n",
    "num_classes = 24\n",
    "epochs = 64"
   ]
  },
  {
   "cell_type": "code",
   "execution_count": 10,
   "metadata": {
    "scrolled": false
   },
   "outputs": [
    {
     "name": "stderr",
     "output_type": "stream",
     "text": [
      "INFO:plaidml:Opening device \"opencl_amd_gfx900.0\"\n"
     ]
    }
   ],
   "source": [
    "def modelMaker(dropout_rate=.20, l_rate=.001):\n",
    "    model = Sequential()\n",
    "\n",
    "    model.add(Conv2D(32, kernel_size=(3, 3), input_shape=(28, 28, 1), padding='same',\n",
    "              kernel_regularizer=regularizers.l1_l2(l1=l_rate, l2=l_rate)))\n",
    "    model.add(keras.layers.PReLU(alpha_initializer='zeros', \n",
    "                                 alpha_regularizer=None, alpha_constraint=None, \n",
    "                                 shared_axes=None))\n",
    "    model.add(MaxPooling2D(pool_size = (3, 3), strides=2, padding='same'))\n",
    "    model.add(Dropout(dropout_rate))\n",
    "\n",
    "    model.add(Conv2D(64, kernel_size = (3, 3), padding='same', \n",
    "                     kernel_regularizer=regularizers.l1_l2(l1=l_rate, l2=l_rate)))\n",
    "    model.add(keras.layers.PReLU(alpha_initializer='zeros', \n",
    "                                 alpha_regularizer=None, alpha_constraint=None, \n",
    "                                 shared_axes=None))\n",
    "    model.add(MaxPooling2D(pool_size = (3, 3), strides=2, padding='same'))\n",
    "    model.add(Dropout(dropout_rate))\n",
    "\n",
    "    model.add(Conv2D(128, kernel_size = (4, 4), padding='same', \n",
    "                     kernel_regularizer=regularizers.l1_l2(l1=l_rate, l2=l_rate)))\n",
    "    model.add(keras.layers.PReLU(alpha_initializer='zeros', \n",
    "                                 alpha_regularizer=None, alpha_constraint=None, \n",
    "                                 shared_axes=None))\n",
    "    model.add(MaxPooling2D(pool_size = (3, 3), strides=2, padding='same'))\n",
    "    model.add(Dropout(dropout_rate))\n",
    "    \n",
    "    model.add(Flatten())\n",
    "    model.add(Dense(num_classes, activation = 'softmax', kernel_regularizer=regularizers.l1_l2(l1=l_rate, l2=l_rate)))\n",
    "\n",
    "    model.compile(loss = keras.losses.categorical_crossentropy,\n",
    "                  optimizer=keras.optimizers.Adam(), metrics=['accuracy'])\n",
    "    return model\n",
    "\n",
    "model = modelMaker()"
   ]
  },
  {
   "cell_type": "code",
   "execution_count": 11,
   "metadata": {},
   "outputs": [],
   "source": [
    "plot_model(model, show_shapes=True, to_file='model.png')"
   ]
  },
  {
   "cell_type": "code",
   "execution_count": 12,
   "metadata": {
    "scrolled": true
   },
   "outputs": [
    {
     "name": "stdout",
     "output_type": "stream",
     "text": [
      "Epoch 1/64\n",
      "159/344 [============>.................] - ETA: 11s - loss: 8.7935 - acc: 0.0789"
     ]
    },
    {
     "name": "stderr",
     "output_type": "stream",
     "text": [
      "INFO:plaidml:Analyzing Ops: 127 of 447 operations complete\n"
     ]
    },
    {
     "name": "stdout",
     "output_type": "stream",
     "text": [
      "344/344 [==============================] - 25s 72ms/step - loss: 7.0162 - acc: 0.2505 - val_loss: 3.7139 - val_acc: 0.7926\n",
      "Epoch 2/64\n",
      "344/344 [==============================] - 8s 23ms/step - loss: 3.6359 - acc: 0.7284 - val_loss: 2.4491 - val_acc: 0.9230\n",
      "Epoch 3/64\n",
      "344/344 [==============================] - 8s 23ms/step - loss: 2.5059 - acc: 0.8388 - val_loss: 1.7179 - val_acc: 0.9587\n",
      "Epoch 4/64\n",
      "344/344 [==============================] - 8s 23ms/step - loss: 1.8581 - acc: 0.8814 - val_loss: 1.2413 - val_acc: 0.9934\n",
      "Epoch 5/64\n",
      "344/344 [==============================] - 8s 23ms/step - loss: 1.4831 - acc: 0.9034 - val_loss: 1.1075 - val_acc: 0.9625\n",
      "Epoch 6/64\n",
      "344/344 [==============================] - 8s 23ms/step - loss: 1.2491 - acc: 0.9172 - val_loss: 0.8708 - val_acc: 0.9927\n",
      "Epoch 7/64\n",
      "344/344 [==============================] - 8s 24ms/step - loss: 1.1320 - acc: 0.9194 - val_loss: 0.7932 - val_acc: 0.9971\n",
      "Epoch 8/64\n",
      "344/344 [==============================] - 8s 24ms/step - loss: 1.0328 - acc: 0.9293 - val_loss: 0.7305 - val_acc: 0.9964\n",
      "Epoch 9/64\n",
      "344/344 [==============================] - 8s 24ms/step - loss: 0.9760 - acc: 0.9318 - val_loss: 0.7169 - val_acc: 0.9914\n",
      "Epoch 10/64\n",
      "344/344 [==============================] - 8s 24ms/step - loss: 0.9324 - acc: 0.9350 - val_loss: 0.6783 - val_acc: 0.9951\n",
      "Epoch 11/64\n",
      "344/344 [==============================] - 8s 25ms/step - loss: 0.9018 - acc: 0.9404 - val_loss: 0.6448 - val_acc: 0.9978\n",
      "Epoch 12/64\n",
      "344/344 [==============================] - 8s 23ms/step - loss: 0.8691 - acc: 0.9413 - val_loss: 0.6269 - val_acc: 0.9996\n",
      "Epoch 13/64\n",
      "344/344 [==============================] - 9s 25ms/step - loss: 0.8691 - acc: 0.9392 - val_loss: 0.6366 - val_acc: 0.9985\n",
      "Epoch 14/64\n",
      "344/344 [==============================] - 8s 24ms/step - loss: 0.8341 - acc: 0.9456 - val_loss: 0.6187 - val_acc: 0.9985\n",
      "Epoch 15/64\n",
      "344/344 [==============================] - 8s 24ms/step - loss: 0.8207 - acc: 0.9468 - val_loss: 0.6089 - val_acc: 0.9984\n",
      "Epoch 16/64\n",
      "344/344 [==============================] - 8s 24ms/step - loss: 0.8110 - acc: 0.9486 - val_loss: 0.6322 - val_acc: 0.9993\n",
      "Epoch 17/64\n",
      "344/344 [==============================] - 8s 24ms/step - loss: 0.8182 - acc: 0.9474 - val_loss: 0.6047 - val_acc: 0.9993\n",
      "Epoch 18/64\n",
      "344/344 [==============================] - 8s 24ms/step - loss: 0.7868 - acc: 0.9520 - val_loss: 0.5967 - val_acc: 0.9942\n",
      "Epoch 19/64\n",
      "344/344 [==============================] - 8s 24ms/step - loss: 0.7736 - acc: 0.9529 - val_loss: 0.6207 - val_acc: 0.9947\n",
      "Epoch 20/64\n",
      "344/344 [==============================] - 8s 24ms/step - loss: 0.8083 - acc: 0.9511 - val_loss: 0.5937 - val_acc: 0.9996\n",
      "Epoch 21/64\n",
      "344/344 [==============================] - 8s 24ms/step - loss: 0.7595 - acc: 0.9566 - val_loss: 0.5764 - val_acc: 0.9984\n",
      "Epoch 22/64\n",
      "344/344 [==============================] - 8s 24ms/step - loss: 0.7783 - acc: 0.9527 - val_loss: 0.6155 - val_acc: 0.9936\n",
      "Epoch 23/64\n",
      "344/344 [==============================] - 8s 24ms/step - loss: 0.7659 - acc: 0.9555 - val_loss: 0.5821 - val_acc: 0.9996\n",
      "Epoch 24/64\n",
      "344/344 [==============================] - 8s 24ms/step - loss: 0.7743 - acc: 0.9545 - val_loss: 0.6140 - val_acc: 0.9989\n",
      "Epoch 25/64\n",
      "344/344 [==============================] - 8s 24ms/step - loss: 0.7859 - acc: 0.9543 - val_loss: 0.7372 - val_acc: 0.9783\n",
      "Epoch 26/64\n",
      "344/344 [==============================] - 8s 23ms/step - loss: 0.7955 - acc: 0.9544 - val_loss: 0.5852 - val_acc: 1.0000\n",
      "Epoch 27/64\n",
      "344/344 [==============================] - 8s 24ms/step - loss: 0.7529 - acc: 0.9574 - val_loss: 0.5820 - val_acc: 0.9984\n",
      "Epoch 28/64\n",
      "344/344 [==============================] - 8s 24ms/step - loss: 0.7347 - acc: 0.9597 - val_loss: 0.5674 - val_acc: 0.9996\n",
      "Epoch 29/64\n",
      "344/344 [==============================] - 8s 24ms/step - loss: 0.7528 - acc: 0.9583 - val_loss: 0.6160 - val_acc: 0.9984\n",
      "Epoch 30/64\n",
      "344/344 [==============================] - 8s 24ms/step - loss: 0.7397 - acc: 0.9603 - val_loss: 0.5607 - val_acc: 0.9996\n",
      "Epoch 31/64\n",
      "344/344 [==============================] - 8s 23ms/step - loss: 0.7359 - acc: 0.9588 - val_loss: 0.6186 - val_acc: 0.9989\n",
      "Epoch 32/64\n",
      "344/344 [==============================] - 8s 24ms/step - loss: 0.7402 - acc: 0.9580 - val_loss: 0.5831 - val_acc: 0.9947\n",
      "Epoch 33/64\n",
      "344/344 [==============================] - 8s 24ms/step - loss: 0.7237 - acc: 0.9608 - val_loss: 0.5609 - val_acc: 0.9995\n",
      "Epoch 34/64\n",
      "344/344 [==============================] - 8s 24ms/step - loss: 0.7296 - acc: 0.9602 - val_loss: 0.5706 - val_acc: 0.9987\n",
      "Epoch 35/64\n",
      "344/344 [==============================] - 8s 24ms/step - loss: 0.7119 - acc: 0.9625 - val_loss: 0.5606 - val_acc: 0.9989\n",
      "Epoch 36/64\n",
      "344/344 [==============================] - 8s 23ms/step - loss: 0.7362 - acc: 0.9570 - val_loss: 0.5668 - val_acc: 0.9995\n",
      "Epoch 37/64\n",
      "344/344 [==============================] - 8s 24ms/step - loss: 0.7359 - acc: 0.9594 - val_loss: 0.5558 - val_acc: 0.9985\n",
      "Epoch 38/64\n",
      "344/344 [==============================] - 8s 24ms/step - loss: 0.7169 - acc: 0.9613 - val_loss: 0.5628 - val_acc: 0.9998\n",
      "Epoch 39/64\n",
      "344/344 [==============================] - 8s 24ms/step - loss: 0.7044 - acc: 0.9625 - val_loss: 0.5652 - val_acc: 0.9956\n",
      "Epoch 40/64\n",
      "344/344 [==============================] - 8s 24ms/step - loss: 0.7195 - acc: 0.9589 - val_loss: 0.5751 - val_acc: 0.9998\n",
      "Epoch 41/64\n",
      "344/344 [==============================] - 8s 24ms/step - loss: 0.7134 - acc: 0.9606 - val_loss: 0.5840 - val_acc: 0.9995\n",
      "Epoch 42/64\n",
      "344/344 [==============================] - 8s 24ms/step - loss: 0.7208 - acc: 0.9609 - val_loss: 0.5754 - val_acc: 0.9971\n",
      "Epoch 43/64\n",
      "344/344 [==============================] - 8s 24ms/step - loss: 0.7157 - acc: 0.9625 - val_loss: 0.5819 - val_acc: 0.9971\n",
      "Epoch 44/64\n",
      "344/344 [==============================] - 8s 24ms/step - loss: 0.7023 - acc: 0.9648 - val_loss: 0.5526 - val_acc: 1.0000\n",
      "Epoch 45/64\n",
      "344/344 [==============================] - 8s 24ms/step - loss: 0.6965 - acc: 0.9651 - val_loss: 0.5557 - val_acc: 0.9978\n",
      "Epoch 46/64\n",
      "344/344 [==============================] - 8s 24ms/step - loss: 0.6937 - acc: 0.9638 - val_loss: 0.5445 - val_acc: 0.9989\n",
      "Epoch 47/64\n",
      "344/344 [==============================] - 8s 24ms/step - loss: 0.7030 - acc: 0.9636 - val_loss: 0.5350 - val_acc: 0.9995\n",
      "Epoch 48/64\n",
      "344/344 [==============================] - 9s 25ms/step - loss: 0.6572 - acc: 0.9668 - val_loss: 0.5421 - val_acc: 0.9982\n",
      "Epoch 49/64\n",
      "344/344 [==============================] - 8s 24ms/step - loss: 0.7436 - acc: 0.9549 - val_loss: 0.6069 - val_acc: 0.9980\n",
      "Epoch 50/64\n",
      "344/344 [==============================] - 8s 24ms/step - loss: 0.7016 - acc: 0.9635 - val_loss: 0.5277 - val_acc: 0.9998\n",
      "Epoch 51/64\n",
      "344/344 [==============================] - 8s 24ms/step - loss: 0.6932 - acc: 0.9632 - val_loss: 0.5754 - val_acc: 0.9925\n",
      "Epoch 52/64\n",
      "344/344 [==============================] - 8s 25ms/step - loss: 0.7213 - acc: 0.9617 - val_loss: 0.5633 - val_acc: 1.0000\n",
      "Epoch 53/64\n",
      "344/344 [==============================] - 8s 24ms/step - loss: 0.6866 - acc: 0.9631 - val_loss: 0.5564 - val_acc: 0.9982\n",
      "Epoch 54/64\n",
      "344/344 [==============================] - 8s 23ms/step - loss: 0.6766 - acc: 0.9655 - val_loss: 0.5396 - val_acc: 0.9998\n",
      "Epoch 55/64\n",
      "344/344 [==============================] - 8s 22ms/step - loss: 0.6579 - acc: 0.9661 - val_loss: 0.5393 - val_acc: 0.9969\n",
      "Epoch 56/64\n",
      "344/344 [==============================] - 8s 24ms/step - loss: 0.7013 - acc: 0.9616 - val_loss: 0.5537 - val_acc: 0.9985\n",
      "Epoch 57/64\n",
      "344/344 [==============================] - 8s 25ms/step - loss: 0.6962 - acc: 0.9634 - val_loss: 0.5318 - val_acc: 0.9978\n",
      "Epoch 58/64\n",
      "344/344 [==============================] - 8s 24ms/step - loss: 0.6605 - acc: 0.9658 - val_loss: 0.5217 - val_acc: 0.9980\n",
      "Epoch 59/64\n",
      "344/344 [==============================] - 8s 24ms/step - loss: 0.7128 - acc: 0.9625 - val_loss: 0.5459 - val_acc: 0.9987\n",
      "Epoch 60/64\n",
      "344/344 [==============================] - 8s 24ms/step - loss: 0.7172 - acc: 0.9615 - val_loss: 0.5720 - val_acc: 1.0000\n",
      "Epoch 61/64\n",
      "344/344 [==============================] - 8s 24ms/step - loss: 0.6710 - acc: 0.9669 - val_loss: 0.5137 - val_acc: 0.9998\n",
      "Epoch 62/64\n"
     ]
    },
    {
     "name": "stdout",
     "output_type": "stream",
     "text": [
      "344/344 [==============================] - 8s 23ms/step - loss: 0.6521 - acc: 0.9682 - val_loss: 0.5066 - val_acc: 0.9989\n",
      "Epoch 63/64\n",
      "344/344 [==============================] - 8s 24ms/step - loss: 0.6577 - acc: 0.9656 - val_loss: 0.5160 - val_acc: 0.9998\n",
      "Epoch 64/64\n",
      "344/344 [==============================] - 8s 24ms/step - loss: 0.6397 - acc: 0.9681 - val_loss: 0.5083 - val_acc: 1.0000\n"
     ]
    }
   ],
   "source": [
    "# pure images\n",
    "#history = model.fit(x_train, y_train, validation_data = (x_valid, y_valid), \n",
    "#                    epochs=epochs, batch_size=batch_size)\n",
    "# altered images\n",
    "history = model.fit_generator(train_datagen.flow(x_train, y_train, batch_size=batch_size), \n",
    "                              validation_data = (x_valid, y_valid), epochs=epochs)"
   ]
  },
  {
   "cell_type": "code",
   "execution_count": 13,
   "metadata": {
    "scrolled": false
   },
   "outputs": [
    {
     "data": {
      "image/png": "[encoded data removed]",
      "text/plain": [
       "<Figure size 432x288 with 1 Axes>"
      ]
     },
     "metadata": {
      "needs_background": "light"
     },
     "output_type": "display_data"
    }
   ],
   "source": [
    "plt.plot(history.history['acc'])\n",
    "plt.plot(history.history['val_acc'])\n",
    "plt.title(\"Accuracy\")\n",
    "plt.xlabel('epoch')\n",
    "plt.ylabel('accuracy')\n",
    "plt.legend(['train','validation'])\n",
    "plt.show()"
   ]
  },
  {
   "cell_type": "code",
   "execution_count": 14,
   "metadata": {},
   "outputs": [
    {
     "data": {
      "text/plain": [
       "0.991494701617401"
      ]
     },
     "execution_count": 14,
     "metadata": {},
     "output_type": "execute_result"
    }
   ],
   "source": [
    "test_images = np.array([i.flatten() for i in test_images])\n",
    "test_images = test_images.reshape(test_images.shape[0], 28, 28, 1)\n",
    "y_pred = model.predict(test_images)\n",
    "\n",
    "accuracy_score(test_y_values, y_pred.round())\n",
    "\n"
   ]
  },
  {
   "cell_type": "code",
   "execution_count": null,
   "metadata": {},
   "outputs": [],
   "source": []
  }
 ],
 "metadata": {
  "kernelspec": {
   "display_name": "Python 3",
   "language": "python",
   "name": "python3"
  },
  "language_info": {
   "codemirror_mode": {
    "name": "ipython",
    "version": 3
   },
   "file_extension": ".py",
   "mimetype": "text/x-python",
   "name": "python",
   "nbconvert_exporter": "python",
   "pygments_lexer": "ipython3",
   "version": "3.7.3"
  }
 },
 "nbformat": 4,
 "nbformat_minor": 1
}
